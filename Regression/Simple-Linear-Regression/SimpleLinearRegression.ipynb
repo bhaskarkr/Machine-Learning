{
 "cells": [
  {
   "cell_type": "raw",
   "source": [
    "\"\"\"\n",
    "    SimpleLinearRegression\n",
    "    ----------------------\n",
    "\n",
    "    y = mx + b\n",
    "    y -> dependent variable\n",
    "    x -> independent variable\n",
    "    b -> y intercept : constant\n",
    "    m -> slope coefficient\n",
    "\n",
    "\n",
    "\n",
    "    Ordinary Least Square:\n",
    "    y' -> Actual\n",
    "    y -> predicted\n",
    "    residual = y' - y\n",
    "    Ordinary Least Square = SUM [(y' - y)^2]\n",
    "\n",
    "\"\"\"\n",
    "\n",
    "\"\"\"\n",
    "Q.  We will use the salary data of a company and use it to predict salary of a new employee based\n",
    "    on the number of the years of Experience.\n",
    "\"\"\""
   ],
   "metadata": {
    "collapsed": false
   }
  },
  {
   "cell_type": "code",
   "execution_count": null,
   "outputs": [],
   "source": [
    "import numpy as np\n"
   ],
   "metadata": {
    "collapsed": false
   }
  }
 ],
 "metadata": {
  "kernelspec": {
   "display_name": "Python 3",
   "language": "python",
   "name": "python3"
  },
  "language_info": {
   "codemirror_mode": {
    "name": "ipython",
    "version": 2
   },
   "file_extension": ".py",
   "mimetype": "text/x-python",
   "name": "python",
   "nbconvert_exporter": "python",
   "pygments_lexer": "ipython2",
   "version": "2.7.6"
  }
 },
 "nbformat": 4,
 "nbformat_minor": 0
}
